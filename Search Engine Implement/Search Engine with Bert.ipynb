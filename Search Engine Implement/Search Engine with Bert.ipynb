{
 "cells": [
  {
   "cell_type": "code",
   "execution_count": 3,
   "metadata": {},
   "outputs": [
    {
     "name": "stdout",
     "output_type": "stream",
     "text": [
      "Requirement already satisfied: tensorflow in /home/tauseefnawaz/anaconda3/lib/python3.7/site-packages (2.3.1)\n",
      "Requirement already satisfied: wrapt>=1.11.1 in /home/tauseefnawaz/anaconda3/lib/python3.7/site-packages (from tensorflow) (1.11.2)\n",
      "Requirement already satisfied: gast==0.3.3 in /home/tauseefnawaz/anaconda3/lib/python3.7/site-packages (from tensorflow) (0.3.3)\n",
      "Requirement already satisfied: google-pasta>=0.1.8 in /home/tauseefnawaz/anaconda3/lib/python3.7/site-packages (from tensorflow) (0.2.0)\n",
      "Requirement already satisfied: grpcio>=1.8.6 in /home/tauseefnawaz/anaconda3/lib/python3.7/site-packages (from tensorflow) (1.34.0)\n",
      "Requirement already satisfied: numpy<1.19.0,>=1.16.0 in /home/tauseefnawaz/anaconda3/lib/python3.7/site-packages (from tensorflow) (1.16.0)\n",
      "Requirement already satisfied: h5py<2.11.0,>=2.10.0 in /home/tauseefnawaz/anaconda3/lib/python3.7/site-packages (from tensorflow) (2.10.0)\n",
      "Requirement already satisfied: keras-preprocessing<1.2,>=1.1.1 in /home/tauseefnawaz/anaconda3/lib/python3.7/site-packages (from tensorflow) (1.1.2)\n",
      "Requirement already satisfied: astunparse==1.6.3 in /home/tauseefnawaz/anaconda3/lib/python3.7/site-packages (from tensorflow) (1.6.3)\n",
      "Requirement already satisfied: protobuf>=3.9.2 in /home/tauseefnawaz/anaconda3/lib/python3.7/site-packages (from tensorflow) (3.14.0)\n",
      "Requirement already satisfied: tensorflow-estimator<2.4.0,>=2.3.0 in /home/tauseefnawaz/anaconda3/lib/python3.7/site-packages (from tensorflow) (2.3.0)\n",
      "Requirement already satisfied: opt-einsum>=2.3.2 in /home/tauseefnawaz/anaconda3/lib/python3.7/site-packages (from tensorflow) (3.3.0)\n",
      "Requirement already satisfied: wheel>=0.26 in /home/tauseefnawaz/anaconda3/lib/python3.7/site-packages (from tensorflow) (0.35.1)\n",
      "Requirement already satisfied: absl-py>=0.7.0 in /home/tauseefnawaz/anaconda3/lib/python3.7/site-packages (from tensorflow) (0.11.0)\n",
      "Requirement already satisfied: tensorboard<3,>=2.3.0 in /home/tauseefnawaz/anaconda3/lib/python3.7/site-packages (from tensorflow) (2.4.0)\n",
      "Requirement already satisfied: termcolor>=1.1.0 in /home/tauseefnawaz/anaconda3/lib/python3.7/site-packages (from tensorflow) (1.1.0)\n",
      "Requirement already satisfied: six>=1.12.0 in /home/tauseefnawaz/anaconda3/lib/python3.7/site-packages (from tensorflow) (1.15.0)\n",
      "Requirement already satisfied: tensorboard-plugin-wit>=1.6.0 in /home/tauseefnawaz/anaconda3/lib/python3.7/site-packages (from tensorboard<3,>=2.3.0->tensorflow) (1.7.0)\n",
      "Requirement already satisfied: werkzeug>=0.11.15 in /home/tauseefnawaz/anaconda3/lib/python3.7/site-packages (from tensorboard<3,>=2.3.0->tensorflow) (1.0.1)\n",
      "Requirement already satisfied: setuptools>=41.0.0 in /home/tauseefnawaz/anaconda3/lib/python3.7/site-packages (from tensorboard<3,>=2.3.0->tensorflow) (49.6.0.post20200925)\n",
      "Requirement already satisfied: google-auth-oauthlib<0.5,>=0.4.1 in /home/tauseefnawaz/anaconda3/lib/python3.7/site-packages (from tensorboard<3,>=2.3.0->tensorflow) (0.4.2)\n",
      "Requirement already satisfied: requests<3,>=2.21.0 in /home/tauseefnawaz/anaconda3/lib/python3.7/site-packages (from tensorboard<3,>=2.3.0->tensorflow) (2.24.0)\n",
      "Requirement already satisfied: google-auth<2,>=1.6.3 in /home/tauseefnawaz/anaconda3/lib/python3.7/site-packages (from tensorboard<3,>=2.3.0->tensorflow) (1.23.0)\n",
      "Requirement already satisfied: markdown>=2.6.8 in /home/tauseefnawaz/anaconda3/lib/python3.7/site-packages (from tensorboard<3,>=2.3.0->tensorflow) (3.3.3)\n",
      "Requirement already satisfied: requests-oauthlib>=0.7.0 in /home/tauseefnawaz/anaconda3/lib/python3.7/site-packages (from google-auth-oauthlib<0.5,>=0.4.1->tensorboard<3,>=2.3.0->tensorflow) (1.3.0)\n",
      "Requirement already satisfied: idna<3,>=2.5 in /home/tauseefnawaz/anaconda3/lib/python3.7/site-packages (from requests<3,>=2.21.0->tensorboard<3,>=2.3.0->tensorflow) (2.10)\n",
      "Requirement already satisfied: chardet<4,>=3.0.2 in /home/tauseefnawaz/anaconda3/lib/python3.7/site-packages (from requests<3,>=2.21.0->tensorboard<3,>=2.3.0->tensorflow) (3.0.4)\n",
      "Requirement already satisfied: urllib3!=1.25.0,!=1.25.1,<1.26,>=1.21.1 in /home/tauseefnawaz/anaconda3/lib/python3.7/site-packages (from requests<3,>=2.21.0->tensorboard<3,>=2.3.0->tensorflow) (1.25.10)\n",
      "Requirement already satisfied: certifi>=2017.4.17 in /home/tauseefnawaz/anaconda3/lib/python3.7/site-packages (from requests<3,>=2.21.0->tensorboard<3,>=2.3.0->tensorflow) (2020.11.8)\n",
      "Requirement already satisfied: rsa<5,>=3.1.4; python_version >= \"3.5\" in /home/tauseefnawaz/anaconda3/lib/python3.7/site-packages (from google-auth<2,>=1.6.3->tensorboard<3,>=2.3.0->tensorflow) (4.5)\n",
      "Requirement already satisfied: cachetools<5.0,>=2.0.0 in /home/tauseefnawaz/anaconda3/lib/python3.7/site-packages (from google-auth<2,>=1.6.3->tensorboard<3,>=2.3.0->tensorflow) (4.1.1)\n",
      "Requirement already satisfied: pyasn1-modules>=0.2.1 in /home/tauseefnawaz/anaconda3/lib/python3.7/site-packages (from google-auth<2,>=1.6.3->tensorboard<3,>=2.3.0->tensorflow) (0.2.8)\n",
      "Requirement already satisfied: importlib-metadata; python_version < \"3.8\" in /home/tauseefnawaz/anaconda3/lib/python3.7/site-packages (from markdown>=2.6.8->tensorboard<3,>=2.3.0->tensorflow) (1.7.0)\n",
      "Requirement already satisfied: oauthlib>=3.0.0 in /home/tauseefnawaz/anaconda3/lib/python3.7/site-packages (from requests-oauthlib>=0.7.0->google-auth-oauthlib<0.5,>=0.4.1->tensorboard<3,>=2.3.0->tensorflow) (3.1.0)\n",
      "Requirement already satisfied: pyasn1>=0.1.3 in /home/tauseefnawaz/anaconda3/lib/python3.7/site-packages (from rsa<5,>=3.1.4; python_version >= \"3.5\"->google-auth<2,>=1.6.3->tensorboard<3,>=2.3.0->tensorflow) (0.4.8)\n",
      "Requirement already satisfied: zipp>=0.5 in /home/tauseefnawaz/anaconda3/lib/python3.7/site-packages (from importlib-metadata; python_version < \"3.8\"->markdown>=2.6.8->tensorboard<3,>=2.3.0->tensorflow) (3.1.0)\n",
      "Requirement already satisfied: keras in /home/tauseefnawaz/anaconda3/lib/python3.7/site-packages (2.4.3)\n",
      "Requirement already satisfied: pyyaml in /home/tauseefnawaz/anaconda3/lib/python3.7/site-packages (from keras) (5.3.1)\n",
      "Requirement already satisfied: h5py in /home/tauseefnawaz/anaconda3/lib/python3.7/site-packages (from keras) (2.10.0)\n",
      "Requirement already satisfied: scipy>=0.14 in /home/tauseefnawaz/anaconda3/lib/python3.7/site-packages (from keras) (1.5.2)\n",
      "Requirement already satisfied: numpy>=1.9.1 in /home/tauseefnawaz/anaconda3/lib/python3.7/site-packages (from keras) (1.16.0)\n",
      "Requirement already satisfied: six in /home/tauseefnawaz/anaconda3/lib/python3.7/site-packages (from h5py->keras) (1.15.0)\n",
      "Requirement already satisfied: numpy in /home/tauseefnawaz/anaconda3/lib/python3.7/site-packages (1.16.0)\n",
      "Requirement already satisfied: pandas in /home/tauseefnawaz/anaconda3/lib/python3.7/site-packages (1.1.2)\n",
      "Requirement already satisfied: python-dateutil>=2.7.3 in /home/tauseefnawaz/anaconda3/lib/python3.7/site-packages (from pandas) (2.8.1)\n",
      "Requirement already satisfied: numpy>=1.15.4 in /home/tauseefnawaz/anaconda3/lib/python3.7/site-packages (from pandas) (1.16.0)\n",
      "Requirement already satisfied: pytz>=2017.2 in /home/tauseefnawaz/anaconda3/lib/python3.7/site-packages (from pandas) (2020.1)\n",
      "Requirement already satisfied: six>=1.5 in /home/tauseefnawaz/anaconda3/lib/python3.7/site-packages (from python-dateutil>=2.7.3->pandas) (1.15.0)\n",
      "Requirement already up-to-date: sentence-transformers in /home/tauseefnawaz/anaconda3/lib/python3.7/site-packages (0.3.9)\n",
      "Requirement already satisfied, skipping upgrade: transformers<3.6.0,>=3.1.0 in /home/tauseefnawaz/anaconda3/lib/python3.7/site-packages (from sentence-transformers) (3.5.1)\n",
      "Requirement already satisfied, skipping upgrade: torch>=1.6.0 in /home/tauseefnawaz/anaconda3/lib/python3.7/site-packages (from sentence-transformers) (1.7.0)\n",
      "Requirement already satisfied, skipping upgrade: nltk in /home/tauseefnawaz/anaconda3/lib/python3.7/site-packages (from sentence-transformers) (3.5)\n",
      "Requirement already satisfied, skipping upgrade: numpy in /home/tauseefnawaz/anaconda3/lib/python3.7/site-packages (from sentence-transformers) (1.16.0)\n",
      "Requirement already satisfied, skipping upgrade: scikit-learn in /home/tauseefnawaz/anaconda3/lib/python3.7/site-packages (from sentence-transformers) (0.23.2)\n",
      "Requirement already satisfied, skipping upgrade: tqdm in /home/tauseefnawaz/anaconda3/lib/python3.7/site-packages (from sentence-transformers) (4.29.1)\n",
      "Requirement already satisfied, skipping upgrade: scipy in /home/tauseefnawaz/anaconda3/lib/python3.7/site-packages (from sentence-transformers) (1.5.2)\n",
      "Requirement already satisfied, skipping upgrade: sacremoses in /home/tauseefnawaz/anaconda3/lib/python3.7/site-packages (from transformers<3.6.0,>=3.1.0->sentence-transformers) (0.0.43)\n"
     ]
    },
    {
     "name": "stdout",
     "output_type": "stream",
     "text": [
      "Requirement already satisfied, skipping upgrade: tokenizers==0.9.3 in /home/tauseefnawaz/anaconda3/lib/python3.7/site-packages (from transformers<3.6.0,>=3.1.0->sentence-transformers) (0.9.3)\n",
      "Requirement already satisfied, skipping upgrade: filelock in /home/tauseefnawaz/anaconda3/lib/python3.7/site-packages (from transformers<3.6.0,>=3.1.0->sentence-transformers) (3.0.12)\n",
      "Requirement already satisfied, skipping upgrade: protobuf in /home/tauseefnawaz/anaconda3/lib/python3.7/site-packages (from transformers<3.6.0,>=3.1.0->sentence-transformers) (3.14.0)\n",
      "Requirement already satisfied, skipping upgrade: packaging in /home/tauseefnawaz/anaconda3/lib/python3.7/site-packages (from transformers<3.6.0,>=3.1.0->sentence-transformers) (20.4)\n",
      "Requirement already satisfied, skipping upgrade: sentencepiece==0.1.91 in /home/tauseefnawaz/anaconda3/lib/python3.7/site-packages (from transformers<3.6.0,>=3.1.0->sentence-transformers) (0.1.91)\n",
      "Requirement already satisfied, skipping upgrade: requests in /home/tauseefnawaz/anaconda3/lib/python3.7/site-packages (from transformers<3.6.0,>=3.1.0->sentence-transformers) (2.24.0)\n",
      "Requirement already satisfied, skipping upgrade: regex!=2019.12.17 in /home/tauseefnawaz/anaconda3/lib/python3.7/site-packages (from transformers<3.6.0,>=3.1.0->sentence-transformers) (2020.7.14)\n",
      "Requirement already satisfied, skipping upgrade: future in /home/tauseefnawaz/anaconda3/lib/python3.7/site-packages (from torch>=1.6.0->sentence-transformers) (0.18.2)\n",
      "Requirement already satisfied, skipping upgrade: dataclasses in /home/tauseefnawaz/anaconda3/lib/python3.7/site-packages (from torch>=1.6.0->sentence-transformers) (0.6)\n",
      "Requirement already satisfied, skipping upgrade: typing-extensions in /home/tauseefnawaz/anaconda3/lib/python3.7/site-packages (from torch>=1.6.0->sentence-transformers) (3.7.4.3)\n",
      "Requirement already satisfied, skipping upgrade: joblib in /home/tauseefnawaz/anaconda3/lib/python3.7/site-packages (from nltk->sentence-transformers) (0.16.0)\n",
      "Requirement already satisfied, skipping upgrade: click in /home/tauseefnawaz/anaconda3/lib/python3.7/site-packages (from nltk->sentence-transformers) (7.1.2)\n",
      "Requirement already satisfied, skipping upgrade: threadpoolctl>=2.0.0 in /home/tauseefnawaz/anaconda3/lib/python3.7/site-packages (from scikit-learn->sentence-transformers) (2.1.0)\n",
      "Requirement already satisfied, skipping upgrade: six in /home/tauseefnawaz/anaconda3/lib/python3.7/site-packages (from sacremoses->transformers<3.6.0,>=3.1.0->sentence-transformers) (1.15.0)\n",
      "Requirement already satisfied, skipping upgrade: pyparsing>=2.0.2 in /home/tauseefnawaz/anaconda3/lib/python3.7/site-packages (from packaging->transformers<3.6.0,>=3.1.0->sentence-transformers) (2.4.7)\n",
      "Requirement already satisfied, skipping upgrade: chardet<4,>=3.0.2 in /home/tauseefnawaz/anaconda3/lib/python3.7/site-packages (from requests->transformers<3.6.0,>=3.1.0->sentence-transformers) (3.0.4)\n",
      "Requirement already satisfied, skipping upgrade: certifi>=2017.4.17 in /home/tauseefnawaz/anaconda3/lib/python3.7/site-packages (from requests->transformers<3.6.0,>=3.1.0->sentence-transformers) (2020.11.8)\n",
      "Requirement already satisfied, skipping upgrade: urllib3!=1.25.0,!=1.25.1,<1.26,>=1.21.1 in /home/tauseefnawaz/anaconda3/lib/python3.7/site-packages (from requests->transformers<3.6.0,>=3.1.0->sentence-transformers) (1.25.10)\n",
      "Requirement already satisfied, skipping upgrade: idna<3,>=2.5 in /home/tauseefnawaz/anaconda3/lib/python3.7/site-packages (from requests->transformers<3.6.0,>=3.1.0->sentence-transformers) (2.10)\n"
     ]
    }
   ],
   "source": [
    "#download this dependencies\n",
    "!pip install tensorflow\n",
    "!pip install keras\n",
    "!pip install numpy\n",
    "!pip install pandas\n",
    "!pip install -U sentence-transformers"
   ]
  },
  {
   "cell_type": "code",
   "execution_count": 4,
   "metadata": {},
   "outputs": [],
   "source": [
    "from keras.preprocessing.text import Tokenizer\n",
    "from keras.preprocessing.sequence import pad_sequences\n",
    "from keras.models import Model\n",
    "from keras.layers import LSTM, Input, TimeDistributed, Dense, Activation, RepeatVector, Embedding\n",
    "from keras.optimizers import Adam\n",
    "from keras.losses import sparse_categorical_crossentropy"
   ]
  },
  {
   "cell_type": "code",
   "execution_count": 5,
   "metadata": {},
   "outputs": [],
   "source": [
    "import numpy as np\n",
    "import pandas as pd\n",
    "import string\n",
    "\n",
    "import scipy\n",
    "from sentence_transformers import SentenceTransformer"
   ]
  },
  {
   "cell_type": "code",
   "execution_count": 6,
   "metadata": {},
   "outputs": [
    {
     "data": {
      "text/html": [
       "<div>\n",
       "<style scoped>\n",
       "    .dataframe tbody tr th:only-of-type {\n",
       "        vertical-align: middle;\n",
       "    }\n",
       "\n",
       "    .dataframe tbody tr th {\n",
       "        vertical-align: top;\n",
       "    }\n",
       "\n",
       "    .dataframe thead th {\n",
       "        text-align: right;\n",
       "    }\n",
       "</style>\n",
       "<table border=\"1\" class=\"dataframe\">\n",
       "  <thead>\n",
       "    <tr style=\"text-align: right;\">\n",
       "      <th></th>\n",
       "      <th>Non-Functional Requirement</th>\n",
       "      <th>Description</th>\n",
       "    </tr>\n",
       "  </thead>\n",
       "  <tbody>\n",
       "    <tr>\n",
       "      <th>0</th>\n",
       "      <td>Is system based on a multi-tiers architecture?...</td>\n",
       "      <td>Depending on the current state and future sele...</td>\n",
       "    </tr>\n",
       "    <tr>\n",
       "      <th>1</th>\n",
       "      <td>How is the system architected? (i.e. is it bas...</td>\n",
       "      <td>For more information on the current architectu...</td>\n",
       "    </tr>\n",
       "    <tr>\n",
       "      <th>2</th>\n",
       "      <td>Is it possible to add further modules in the f...</td>\n",
       "      <td>Extensibility covers a broad spectrum of topic...</td>\n",
       "    </tr>\n",
       "    <tr>\n",
       "      <th>3</th>\n",
       "      <td>Please provide a detailed interface descriptio...</td>\n",
       "      <td>SAP API Management provides enterprises a comp...</td>\n",
       "    </tr>\n",
       "    <tr>\n",
       "      <th>4</th>\n",
       "      <td>Is it possible to make the system data availab...</td>\n",
       "      <td>SAP supports all standard integration capabili...</td>\n",
       "    </tr>\n",
       "  </tbody>\n",
       "</table>\n",
       "</div>"
      ],
      "text/plain": [
       "                          Non-Functional Requirement  \\\n",
       "0  Is system based on a multi-tiers architecture?...   \n",
       "1  How is the system architected? (i.e. is it bas...   \n",
       "2  Is it possible to add further modules in the f...   \n",
       "3  Please provide a detailed interface descriptio...   \n",
       "4  Is it possible to make the system data availab...   \n",
       "\n",
       "                                         Description  \n",
       "0  Depending on the current state and future sele...  \n",
       "1  For more information on the current architectu...  \n",
       "2  Extensibility covers a broad spectrum of topic...  \n",
       "3  SAP API Management provides enterprises a comp...  \n",
       "4  SAP supports all standard integration capabili...  "
      ]
     },
     "execution_count": 6,
     "metadata": {},
     "output_type": "execute_result"
    }
   ],
   "source": [
    "df = pd.read_excel(\"Dirty data from RFP COE.xlsx\")\n",
    "df.head()"
   ]
  },
  {
   "cell_type": "code",
   "execution_count": 7,
   "metadata": {},
   "outputs": [],
   "source": [
    "df = df.dropna()"
   ]
  },
  {
   "cell_type": "code",
   "execution_count": 8,
   "metadata": {},
   "outputs": [
    {
     "name": "stdout",
     "output_type": "stream",
     "text": [
      "<class 'pandas.core.frame.DataFrame'>\n",
      "Int64Index: 716 entries, 0 to 716\n",
      "Data columns (total 2 columns):\n",
      " #   Column                      Non-Null Count  Dtype \n",
      "---  ------                      --------------  ----- \n",
      " 0   Non-Functional Requirement  716 non-null    object\n",
      " 1   Description                 716 non-null    object\n",
      "dtypes: object(2)\n",
      "memory usage: 16.8+ KB\n"
     ]
    }
   ],
   "source": [
    "df.info()"
   ]
  },
  {
   "cell_type": "code",
   "execution_count": 9,
   "metadata": {},
   "outputs": [],
   "source": [
    "def clean_sentence(sentence):\n",
    "    lower_case_sent = sentence.lower()\n",
    "    # remove punctuation\n",
    "    string_punctuation = string.punctuation + \"¡\" + '¿'\n",
    "    clean_sentence = lower_case_sent.translate(str.maketrans('', '', string_punctuation))\n",
    "    return clean_sentence"
   ]
  },
  {
   "cell_type": "code",
   "execution_count": 10,
   "metadata": {},
   "outputs": [],
   "source": [
    "def tokenize(sentences):\n",
    "    # Create tokenizer\n",
    "    text_tokenizer = Tokenizer()\n",
    "    # Fit texts\n",
    "    text_tokenizer.fit_on_texts(sentences)\n",
    "    return text_tokenizer.texts_to_sequences(sentences), text_tokenizer"
   ]
  },
  {
   "cell_type": "code",
   "execution_count": 11,
   "metadata": {},
   "outputs": [],
   "source": [
    "#Text preprocessing\n",
    "question_sentences = [clean_sentence(sentence) for sentence in df['Non-Functional Requirement']]\n",
    "descrition_sentences = [clean_sentence(sentence) for sentence in df['Description']]\n",
    "# Tokenize words\n",
    "question_text_tokenized, question_text_tokenizer = tokenize(question_sentences)\n",
    "descrition_text_tokenized, descrition_text_tokenizer = tokenize(descrition_sentences)\n",
    "\n",
    "# Check length\n",
    "question_length = len(question_text_tokenizer.word_index) + 1\n",
    "description_length = len(descrition_text_tokenizer.word_index) + 1"
   ]
  },
  {
   "cell_type": "code",
   "execution_count": 12,
   "metadata": {},
   "outputs": [],
   "source": [
    "#get Maximum length\n",
    "max_question_len = int(len(max(question_text_tokenized,key=len)))\n",
    "max_descrition_len = int(len(max(descrition_text_tokenized,key=len)))\n",
    "\n",
    "#get padding\n",
    "question_pad_sentence = pad_sequences(question_text_tokenized, max_question_len, padding = \"post\")\n",
    "decription_pad_sentence = pad_sequences(descrition_text_tokenized, max_descrition_len, padding = \"post\")\n",
    "\n",
    "# Reshape data\n",
    "question_pad_sentence = question_pad_sentence.reshape(*question_pad_sentence.shape, 1)\n",
    "decription_pad_sentence = decription_pad_sentence.reshape(*decription_pad_sentence.shape, 1)\n"
   ]
  },
  {
   "cell_type": "code",
   "execution_count": 13,
   "metadata": {},
   "outputs": [],
   "source": [
    "#building Model\n",
    "input_sequence = Input(shape=(max_question_len,))\n",
    "embedding = Embedding(input_dim=question_length, output_dim=128,)(input_sequence)\n",
    "encoder = LSTM(64, return_sequences=False)(embedding)\n",
    "r_vec = RepeatVector(max_descrition_len)(encoder)\n",
    "decoder = LSTM(64, return_sequences=True, dropout=0.2)(r_vec)\n",
    "logits = TimeDistributed(Dense(description_length))(decoder)"
   ]
  },
  {
   "cell_type": "code",
   "execution_count": 14,
   "metadata": {},
   "outputs": [
    {
     "name": "stdout",
     "output_type": "stream",
     "text": [
      "Model: \"functional_1\"\n",
      "_________________________________________________________________\n",
      "Layer (type)                 Output Shape              Param #   \n",
      "=================================================================\n",
      "input_1 (InputLayer)         [(None, 202)]             0         \n",
      "_________________________________________________________________\n",
      "embedding (Embedding)        (None, 202, 128)          343040    \n",
      "_________________________________________________________________\n",
      "lstm (LSTM)                  (None, 64)                49408     \n",
      "_________________________________________________________________\n",
      "repeat_vector (RepeatVector) (None, 1520, 64)          0         \n",
      "_________________________________________________________________\n",
      "lstm_1 (LSTM)                (None, 1520, 64)          33024     \n",
      "_________________________________________________________________\n",
      "time_distributed (TimeDistri (None, 1520, 5472)        355680    \n",
      "_________________________________________________________________\n",
      "activation_4 (Activation)    (None, 1520, 5472)        0         \n",
      "=================================================================\n",
      "Total params: 781,152\n",
      "Trainable params: 781,152\n",
      "Non-trainable params: 0\n",
      "_________________________________________________________________\n"
     ]
    }
   ],
   "source": [
    "#Compiling\n",
    "enc_dec_model = Model(input_sequence, Activation('softmax')(logits))\n",
    "enc_dec_model.compile(loss=sparse_categorical_crossentropy,\n",
    "              optimizer=Adam(1e-3),\n",
    "              metrics=['accuracy'])\n",
    "enc_dec_model.summary()"
   ]
  },
  {
   "cell_type": "code",
   "execution_count": null,
   "metadata": {},
   "outputs": [
    {
     "name": "stdout",
     "output_type": "stream",
     "text": [
      "Epoch 1/10\n",
      "36/36 [==============================] - 268s 7s/step - loss: 6.8871 - accuracy: 0.8866\n",
      "Epoch 2/10\n",
      "36/36 [==============================] - 21029s 584s/step - loss: 2.0141 - accuracy: 0.9175\n",
      "Epoch 3/10\n",
      "36/36 [==============================] - 12487s 347s/step - loss: 0.8848 - accuracy: 0.9175\n",
      "Epoch 4/10\n",
      "36/36 [==============================] - 294s 8s/step - loss: 0.8438 - accuracy: 0.9175\n",
      "Epoch 5/10\n",
      "17/36 [=============>................] - ETA: 2:26 - loss: 0.8169 - accuracy: 0.9192"
     ]
    }
   ],
   "source": [
    "#training model\n",
    "model_results = enc_dec_model.fit(question_pad_sentence, decription_pad_sentence, batch_size=20, epochs=10)"
   ]
  },
  {
   "cell_type": "code",
   "execution_count": null,
   "metadata": {},
   "outputs": [],
   "source": [
    "def logits_to_sentence(logits, tokenizer):\n",
    "    index_to_words = {idx: word for word, idx in tokenizer.word_index.items()}\n",
    "    index_to_words[0] = '<empty>' \n",
    "    return ' '.join([index_to_words[prediction] for prediction in np.argmax(logits, 1)])\n",
    "\n",
    "\n",
    "index = 0\n",
    "print(\"\\nThe question sentence is: {}\".format(question_sentences[index]))\n",
    "print(\"\\nThe description sentence is: {}\".format(descrition_sentences[index]))\n",
    "print('\\nThe predicted sentence is :\\n')\n",
    "print(logits_to_sentence(enc_dec_model.predict(question_pad_sentence[index])[0], descrition_text_tokenizer))"
   ]
  },
  {
   "cell_type": "code",
   "execution_count": null,
   "metadata": {},
   "outputs": [],
   "source": []
  }
 ],
 "metadata": {
  "kernelspec": {
   "display_name": "Python 3",
   "language": "python",
   "name": "python3"
  },
  "language_info": {
   "codemirror_mode": {
    "name": "ipython",
    "version": 3
   },
   "file_extension": ".py",
   "mimetype": "text/x-python",
   "name": "python",
   "nbconvert_exporter": "python",
   "pygments_lexer": "ipython3",
   "version": "3.7.3"
  }
 },
 "nbformat": 4,
 "nbformat_minor": 4
}
