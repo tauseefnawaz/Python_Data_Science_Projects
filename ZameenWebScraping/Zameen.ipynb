{
 "cells": [
  {
   "cell_type": "code",
   "execution_count": 1,
   "metadata": {},
   "outputs": [],
   "source": [
    "from selenium import webdriver\n",
    "from bs4 import BeautifulSoup as bs4\n",
    "import re\n",
    "import os\n",
    "import time\n",
    "import pandas as pd\n",
    "from tqdm import tqdm\n",
    "import warnings\n",
    "warnings.filterwarnings(\"ignore\")"
   ]
  },
  {
   "cell_type": "code",
   "execution_count": 2,
   "metadata": {},
   "outputs": [],
   "source": [
    "from selenium.webdriver.chrome.options import Options\n",
    "chrome_options=Options()\n",
    "chrome_options.add_argument('--no-sandbox')\n",
    "#driver=webdriver.Chrome(\"chromedriver\",options=chrome_options)\n",
    "\n",
    "driver = webdriver.PhantomJS(executable_path = 'phantom/bin/phantomjs',)"
   ]
  },
  {
   "cell_type": "code",
   "execution_count": 3,
   "metadata": {},
   "outputs": [
    {
     "name": "stderr",
     "output_type": "stream",
     "text": [
      "100%|██████████| 25/25 [00:00<00:00, 27.39it/s]\n",
      "100%|██████████| 14/14 [00:00<00:00, 22.62it/s]\n"
     ]
    }
   ],
   "source": [
    "list_of_links=[]\n",
    "page_next = True\n",
    "num_of_iteration=2\n",
    "for i in range(1,num_of_iteration+1):\n",
    "    driver.get('https://www.zameen.com/Homes/Islamabad_Blue_Area-157-'+str(i)+'.html')\n",
    "    products=driver.find_elements_by_class_name('ef447dde')\n",
    "    for product in tqdm(products):\n",
    "        try:\n",
    "            link=product.find_elements_by_class_name('f74e80f3')\n",
    "            linker=link[0].find_elements_by_tag_name('a')\n",
    "\n",
    "            linker1=linker[0].get_property('href')\n",
    "            list_of_links.append(linker1)\n",
    "        except:\n",
    "            break"
   ]
  },
  {
   "cell_type": "code",
   "execution_count": 4,
   "metadata": {},
   "outputs": [
    {
     "data": {
      "text/plain": [
       "['https://www.zameen.com/Property/islamabad_blue_area_5_lac_to_6_rental_apartment_at_instalment_moi_blue_area-27491781-157-1.html',\n",
       " 'https://www.zameen.com/Property/islamabad_blue_area_mall_of_islamabad_1260_sq_ft_apartment_for_sale-27264829-157-1.html',\n",
       " 'https://www.zameen.com/Property/blue_area_elysium_mall_one_bedroom_apartment_for_sale_in_elysium_f8_islamabad-20962469-10739-1.html',\n",
       " 'https://www.zameen.com/Property/blue_area_elysium_mall_two_bedroom_for_sale_in_elysium_f_8_islamabad-20986222-10739-1.html',\n",
       " 'https://www.zameen.com/Property/blue_area_elysium_mall_studio_one_bedroom_apartment_for_sale_in_elysium_blue_area_islamabad-21712322-10739-1.html',\n",
       " 'https://www.zameen.com/Property/blue_area_elysium_mall_4_to_6_lac_high_rental_2_bed_apartment_in_blue_area-26638025-10739-1.html',\n",
       " 'https://www.zameen.com/Property/islamabad_blue_area_one_bedroom_apartment__for_sale_in_mall_of_islamabad_blue_area-27621639-157-1.html',\n",
       " 'https://www.zameen.com/Property/blue_area_elysium_mall_investor_price_3__to_4_lac_high_rent_1_bed_apartment_in_blue_area-26638002-10739-1.html',\n",
       " 'https://www.zameen.com/Property/blue_area_elysium_mall_10th_floor_corner_apartment_for_sale-27570781-10739-1.html',\n",
       " 'https://www.zameen.com/Property/blue_area_mall_of_islamabad_1893__square_feet_spacious_flat_available_in_blue_area_for_sale-26848183-17132-1.html',\n",
       " 'https://www.zameen.com/Property/blue_area_mall_of_islamabad_blue_area_flat_sized_1900__square_feet_for_sale-27772038-17132-1.html',\n",
       " 'https://www.zameen.com/Property/blue_area_blue_area_block_j_two_bed_apartment__mall_of_islamabad__blue_area-26050617-3134-1.html',\n",
       " 'https://www.zameen.com/Property/islamabad_blue_area_234000__square_feet_farm_house_in_central_blue_area_for_sale-27840672-157-1.html',\n",
       " 'https://www.zameen.com/Property/islamabad_blue_area_hot_moi_apartments_like_centaurus_25_percent_down_payment_1_year_completion__3_year_instalment-25980634-157-1.html',\n",
       " 'https://www.zameen.com/Property/islamabad_blue_area_a_stunning_flat_is_up_for_grabs_in_blue_area_islamabad_luxurious_apartment_available_for_easy_installment_plan_booking_only_25_-26848065-157-1.html',\n",
       " 'https://www.zameen.com/Property/islamabad_blue_area_blue_area_main_jinnah_avenue_1146_sqft_apartment_available_for_sale_on_easy_installments_with_30_downpayment-27755891-157-1.html',\n",
       " 'https://www.zameen.com/Property/islamabad_blue_area_blue_area_main_jinnah_avenue_934_sqft_apartment_available_for_sale_on_easy_installments_with_30_down_payment-27755892-157-1.html',\n",
       " 'https://www.zameen.com/Property/islamabad_blue_area_blue_area_main_jinnah_avenue_2562_sqft_apartment_available_for_sale_on_easy_installments_with_30_down_payment-27755890-157-1.html',\n",
       " 'https://www.zameen.com/Property/islamabad_blue_area_perfect_1130__square_feet_flat_in_blue_area_for_sale-27699192-157-1.html',\n",
       " 'https://www.zameen.com/Property/islamabad_blue_area_investor_price_3_to_4_lac_high_rental_apartments_in_blue_area-26618534-157-1.html',\n",
       " 'https://www.zameen.com/Property/islamabad_blue_area_booking_high_rental_investor_price_flat_apartment_at_esay_instalments_in_blue_area_better_then_shop_office-25890463-157-1.html',\n",
       " 'https://www.zameen.com/Property/blue_area_elysium_mall_elysium_mall__apartment_for_sale_2_bed_margala_facing-24387760-10739-1.html',\n",
       " 'https://www.zameen.com/Property/blue_area_elysium_mall_elysium_mall_residencia_beautiful_view_brand_new_2_bedrooms_corner_apartment-23899802-10739-1.html',\n",
       " 'https://www.zameen.com/Property/islamabad_blue_area_in_blue_area_1633_square_yards_house_for_sale-26601098-157-1.html',\n",
       " 'https://www.zameen.com/Property/islamabad_blue_area_1_bed_apartment_for_sale_in_mall_of_islamabad-25600907-157-1.html',\n",
       " 'https://www.zameen.com/Property/islamabad_blue_area_flat_for_sale-27082150-157-1.html',\n",
       " 'https://www.zameen.com/Property/islamabad_blue_area_ideally_located_flat_of_1893__square_feet_is_available_for_sale_in_islamabad-27697891-157-1.html',\n",
       " 'https://www.zameen.com/Property/islamabad_blue_area_up_to_4_lac_rent_luxury_two_bed_margalla_facing_apartment-26077933-157-1.html',\n",
       " 'https://www.zameen.com/Property/blue_area_elysium_mall_2_bedroom_apartment_available_for_sale-21694692-10739-1.html',\n",
       " 'https://www.zameen.com/Property/islamabad_blue_area_mall_of_islamabad_2114_sq_ft_apartment_for_sale-27265180-157-1.html',\n",
       " 'https://www.zameen.com/Property/islamabad_blue_area_2_bedroom_apartment_eighteen__golf_course_facing-25835797-157-1.html',\n",
       " 'https://www.zameen.com/Property/blue_area_mall_of_islamabad_1805_sq_ft_flat_for_sale_in_mall_of_islamabad_blue_area-27858993-17132-1.html',\n",
       " 'https://www.zameen.com/Property/islamabad_blue_area_mall_of_islamabad_1893_sq_ft_apartment_for_sale-27265305-157-1.html',\n",
       " 'https://www.zameen.com/Property/blue_area_elysium_mall_beautiful_1_bedroom_apartment_for_sale_in_elysium_tower-19153058-10739-1.html',\n",
       " 'https://www.zameen.com/Property/blue_area_elysium_mall_beautiful_2_bedroom_apartment_for_sale_in_elysium_tower-19153095-10739-1.html',\n",
       " 'https://www.zameen.com/Property/islamabad_blue_area_house_of_1633_square_yards_in_blue_area_for_sale-26601096-157-1.html',\n",
       " 'https://www.zameen.com/Property/blue_area_elysium_mall_corner_flat_facing_centauras_blue_area_in_islamabad-26759955-10739-1.html',\n",
       " 'https://www.zameen.com/Property/islamabad_blue_area_luxury_apartment_for_sale-26619166-157-1.html',\n",
       " 'https://www.zameen.com/Property/islamabad_blue_area_mall_of_islamabad_one_bed_margalla_face-27860198-157-1.html']"
      ]
     },
     "execution_count": 4,
     "metadata": {},
     "output_type": "execute_result"
    }
   ],
   "source": [
    "list_of_links"
   ]
  },
  {
   "cell_type": "code",
   "execution_count": null,
   "metadata": {},
   "outputs": [],
   "source": [
    "import pickle\n",
    "with open(\"list_of_links.txt\",\"wb\") as file:\n",
    "    pickle.dump(list_of_links,file)"
   ]
  },
  {
   "cell_type": "code",
   "execution_count": null,
   "metadata": {},
   "outputs": [],
   "source": [
    "with open(\"list_of_links.txt\",\"rb\") as file:\n",
    "    links=pickle.load(file)"
   ]
  },
  {
   "cell_type": "code",
   "execution_count": null,
   "metadata": {},
   "outputs": [],
   "source": [
    "Types = []\n",
    "Prices = []\n",
    "Locations = []\n",
    "Bath = []\n",
    "Areas = []\n",
    "Purposes = []\n",
    "bedrooms = []\n",
    "Added = []\n",
    "Agents = []\n",
    "_6_months = []\n",
    "_12_months = []\n",
    "_24_months = []\n",
    "\n",
    "for link in links:\n",
    "    spanning = []\n",
    "    agents = []\n",
    "    driver.get(link)\n",
    "    details = driver.find_elements_by_class_name('_066bb126')\n",
    "    for detail in details:\n",
    "        list_items = detail.find_elements_by_tag_name('li')\n",
    "        for li in list_items:\n",
    "            spanning.append(li.find_elements_by_tag_name(\"span\"))\n",
    "    Types.append(spanning[0][1].text)\n",
    "    Prices.append(spanning[1][1].text.split('\\n')[1])\n",
    "    Locations.append(spanning[2][1].text)\n",
    "    Bath.append(spanning[3][1].text)\n",
    "    Areas.append(spanning[4][1].text)\n",
    "    Purposes.append(spanning[5][1].text)\n",
    "    bedrooms.append(spanning[6][1].text)\n",
    "    Added.append(spanning[7][1].text)\n",
    "    \n",
    "    agent_details = driver.find_elements_by_class_name('b4a325e6')\n",
    "    for agent in agent_details:\n",
    "        det = agent.find_elements_by_class_name('_4437ab18')\n",
    "        for d in det:\n",
    "            agents.append(d.find_elements_by_tag_name(\"span\"))\n",
    "    Agents.append(agents[0][0].text)  \n",
    "    \n",
    "    ago_prices = []\n",
    "    details = driver.find_elements_by_class_name('_5a726270')\n",
    "    for detail in details:\n",
    "        list_items = detail.find_elements_by_tag_name('li')\n",
    "        for li in list_items:\n",
    "            ago_prices.append(li.find_elements_by_tag_name(\"span\"))\n",
    "    \n",
    "    _6_months.append(ago_prices[2][1].text)\n",
    "    _12_months.append(ago_prices[3][1].text)\n",
    "    _24_months.append(ago_prices[4][1].text)\n",
    "    \n",
    "data['Type'] = Types\n",
    "data['Price'] = Prices\n",
    "data['Location'] = Locations\n",
    "data['Bath'] = Bath\n",
    "data['Area'] = Areas\n",
    "data['Purpose'] = Purposes\n",
    "data['bedrooms'] = bedrooms\n",
    "data['Added Date'] = Added\n",
    "data['Agent Name'] = Agents\n",
    "data['_6_months'] = _6_months\n",
    "data['_12_months'] = _12_months\n",
    "data['_24_months'] = _24_months\n"
   ]
  },
  {
   "cell_type": "code",
   "execution_count": null,
   "metadata": {},
   "outputs": [],
   "source": [
    "data = pd.DataFrame(data)"
   ]
  },
  {
   "cell_type": "code",
   "execution_count": null,
   "metadata": {},
   "outputs": [],
   "source": [
    "data.head()"
   ]
  },
  {
   "cell_type": "code",
   "execution_count": null,
   "metadata": {},
   "outputs": [],
   "source": [
    "data.to_csv('sample-data.csv')"
   ]
  },
  {
   "cell_type": "code",
   "execution_count": null,
   "metadata": {},
   "outputs": [],
   "source": [
    "data = {}\n",
    "def get_data(link):\n",
    "    driver.get(link)\n",
    "    details = driver.find_elements_by_class_name('_066bb126')\n",
    "    for detail in details:\n",
    "        list_items = detail.find_elements_by_tag_name('li')\n",
    "        for li in list_items:\n",
    "            spanning.append(li.find_elements_by_tag_name(\"span\"))\n",
    "    data['Types'] = spanning[0][1].text\n",
    "    '''\n",
    "    Types.append(spanning[0][1].text)\n",
    "    Prices.append(spanning[1][1].text.split('\\n')[1])\n",
    "    Locations.append(spanning[2][1].text)\n",
    "    Bath.append(spanning[3][1].text)\n",
    "    Areas.append(spanning[4][1].text)\n",
    "    Purposes.append(spanning[5][1].text)\n",
    "    bedrooms.append(spanning[6][1].text)\n",
    "    Added.append(spanning[7][1].text)\n",
    "    '''\n",
    "    agent_details = driver.find_elements_by_class_name('b4a325e6')\n",
    "    for agent in agent_details:\n",
    "        det = agent.find_elements_by_class_name('_4437ab18')\n",
    "        for d in det:\n",
    "            agents.append(d.find_elements_by_tag_name(\"span\"))\n",
    "    #Agents.append(agents[0][0].text)  \n",
    "    \n",
    "    ago_prices = []\n",
    "    details = driver.find_elements_by_class_name('_5a726270')\n",
    "    for detail in details:\n",
    "        list_items = detail.find_elements_by_tag_name('li')\n",
    "        for li in list_items:\n",
    "            ago_prices.append(li.find_elements_by_tag_name(\"span\"))\n",
    "    \n",
    "    #_6_months.append(ago_prices[2][1].text)\n",
    "    #_12_months.append(ago_prices[3][1].text)\n",
    "    #_24_months.append(ago_prices[4][1].text)\n",
    "    print(data)\n",
    "    return data\n",
    "'''\n",
    "data['Type'] = Types\n",
    "data['Price'] = Prices\n",
    "data['Location'] = Locations\n",
    "data['Bath'] = Bath\n",
    "data['Area'] = Areas\n",
    "data['Purpose'] = Purposes\n",
    "data['bedrooms'] = bedrooms\n",
    "data['Added Date'] = Added\n",
    "data['Agent Name'] = Agents\n",
    "data['_6_months'] = _6_months\n",
    "data['_12_months'] = _12_months\n",
    "data['_24_months'] = _24_months\n",
    "'''"
   ]
  },
  {
   "cell_type": "code",
   "execution_count": 57,
   "metadata": {},
   "outputs": [],
   "source": [
    "def get_link(link):\n",
    "    spanning = []\n",
    "    data = {}\n",
    "    driver.get(link)\n",
    "    details = driver.find_elements_by_class_name('_066bb126')\n",
    "    #find overview detail of items\n",
    "    for detail in details:\n",
    "        list_items = detail.find_elements_by_tag_name('li')\n",
    "        for li in list_items:\n",
    "            spanning.append(li.find_elements_by_tag_name(\"span\"))  \n",
    "            \n",
    "    #find agent name\n",
    "    agents = []\n",
    "    agent_details = driver.find_elements_by_class_name('b4a325e6')\n",
    "    for agent in agent_details:\n",
    "        det = agent.find_elements_by_class_name('_4437ab18')\n",
    "        for d in det:\n",
    "            agents.append(d.find_elements_by_tag_name(\"span\"))\n",
    "\n",
    "    ago_prices = []\n",
    "    price_detail = driver.find_elements_by_class_name('_5a726270')\n",
    "    for price in price_detail:\n",
    "        list_items = price.find_elements_by_tag_name('li')\n",
    "        for li in list_items:\n",
    "            ago_prices.append(li.find_elements_by_tag_name(\"span\"))\n",
    "\n",
    "    data['Types'] = spanning[0][1].text\n",
    "    data['Prices'] = spanning[1][1].text\n",
    "    data['Locations'] = spanning[2][1].text\n",
    "    data['Bath'] = spanning[3][1].text\n",
    "    data['Areas'] = spanning[4][1].text\n",
    "    data['Purposes']=spanning[5][1].text\n",
    "    data['bedrooms']=spanning[6][1].text\n",
    "    data['Added']=spanning[7][1].text\n",
    "    data['Agent'] = agents[0][0].text\n",
    "    #print(ago_prices)\n",
    "    '''\n",
    "    data['6_months'] = ago_prices[2][1].text\n",
    "    data['12_months'] = ago_prices[3][1].text\n",
    "    data['24_months'] = ago_prices[4][1].text\n",
    "    '''\n",
    "    return data"
   ]
  },
  {
   "cell_type": "code",
   "execution_count": 58,
   "metadata": {},
   "outputs": [
    {
     "data": {
      "text/plain": [
       "{'Types': 'Flat',\n",
       " 'Prices': 'PKR4.99 Crore',\n",
       " 'Locations': 'Blue Area, Islamabad, Islamabad Capital',\n",
       " 'Bath': '3',\n",
       " 'Areas': '8.4 Marla',\n",
       " 'Purposes': 'For Sale',\n",
       " 'bedrooms': '2',\n",
       " 'Added': '3 weeks ago',\n",
       " 'Agent': ''}"
      ]
     },
     "execution_count": 58,
     "metadata": {},
     "output_type": "execute_result"
    }
   ],
   "source": [
    "get_link(list_of_links[0])"
   ]
  },
  {
   "cell_type": "code",
   "execution_count": 59,
   "metadata": {},
   "outputs": [
    {
     "name": "stdout",
     "output_type": "stream",
     "text": [
      "{'Types': 'Flat', 'Prices': 'PKR4.99 Crore', 'Locations': 'Blue Area, Islamabad, Islamabad Capital', 'Bath': '3', 'Areas': '8.4 Marla', 'Purposes': 'For Sale', 'bedrooms': '2', 'Added': '3 weeks ago', 'Agent': ''}\n"
     ]
    }
   ],
   "source": []
  },
  {
   "cell_type": "code",
   "execution_count": null,
   "metadata": {},
   "outputs": [],
   "source": []
  },
  {
   "cell_type": "code",
   "execution_count": 135,
   "metadata": {},
   "outputs": [],
   "source": []
  },
  {
   "cell_type": "code",
   "execution_count": null,
   "metadata": {},
   "outputs": [],
   "source": []
  },
  {
   "cell_type": "code",
   "execution_count": null,
   "metadata": {},
   "outputs": [],
   "source": []
  }
 ],
 "metadata": {
  "kernelspec": {
   "display_name": "Python 3",
   "language": "python",
   "name": "python3"
  },
  "language_info": {
   "codemirror_mode": {
    "name": "ipython",
    "version": 3
   },
   "file_extension": ".py",
   "mimetype": "text/x-python",
   "name": "python",
   "nbconvert_exporter": "python",
   "pygments_lexer": "ipython3",
   "version": "3.8.5"
  }
 },
 "nbformat": 4,
 "nbformat_minor": 4
}
